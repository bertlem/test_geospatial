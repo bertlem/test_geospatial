{
 "cells": [
  {
   "cell_type": "markdown",
   "id": "faff084a-51d5-4d27-9913-d1a84033c077",
   "metadata": {},
   "source": [
    "# IMPORTS"
   ]
  },
  {
   "cell_type": "code",
   "execution_count": 1,
   "id": "4284e549-6445-4e49-92be-c07df04797f9",
   "metadata": {},
   "outputs": [],
   "source": [
    "import ohsome\n",
    "import pandas as pd\n",
    "import geopandas as gpd\n",
    "import matplotlib.pyplot as plt\n",
    "\n",
    "import datetime\n",
    "import shapely\n",
    "\n",
    "import json\n",
    "\n",
    "from pathlib import Path\n",
    "from time import sleep"
   ]
  },
  {
   "cell_type": "markdown",
   "id": "9e581bf5-dc1a-4d6f-9959-41396c4a91b6",
   "metadata": {},
   "source": [
    "# MISC."
   ]
  },
  {
   "cell_type": "code",
   "execution_count": 2,
   "id": "655ffaa3-c78d-44ab-a743-d41bf57c718d",
   "metadata": {},
   "outputs": [],
   "source": [
    "tex_fonts = {\n",
    "        \"text.usetex\": True,\n",
    "        \"font.family\": \"serif\",\n",
    "        \"axes.titlesize\": 10, \n",
    "        \"axes.labelsize\": 10,\n",
    "        \"font.size\": 10,\n",
    "        \"legend.fontsize\": 'xx-small',\n",
    "        \"legend.title_fontsize\": 10,\n",
    "        \"xtick.labelsize\": 8, #'xx-small',\n",
    "        \"ytick.labelsize\": 8, #'xx-small',\n",
    "        \"ps.usedistiller\": \"xpdf\"\n",
    "        }\n",
    "plt.rcParams.update(tex_fonts)\n",
    "plt.rcParams['text.latex.preamble'] = r'\\usepackage{amsmath,amssymb,underscore}'"
   ]
  },
  {
   "cell_type": "code",
   "execution_count": 3,
   "id": "f205992c-8d21-431b-9150-4f839d3e9957",
   "metadata": {},
   "outputs": [],
   "source": [
    "cm=1/2.54"
   ]
  },
  {
   "cell_type": "code",
   "execution_count": 4,
   "id": "26e29351-1f1a-428b-a279-16fd30dfd691",
   "metadata": {},
   "outputs": [],
   "source": [
    "path_geo = Path('/home/lemasle/GEO/test_geospatial')\n",
    "path_geo = Path('/home/lemasle/GEO/test_geospatial/plots')"
   ]
  },
  {
   "cell_type": "markdown",
   "id": "e7cb4421-224c-4878-ae3f-d339cbefe575",
   "metadata": {},
   "source": [
    "# CLIENT"
   ]
  },
  {
   "cell_type": "code",
   "execution_count": 5,
   "id": "d77f1ee3-be90-4140-b587-06600131690e",
   "metadata": {},
   "outputs": [],
   "source": [
    "client = ohsome.OhsomeClient()"
   ]
  },
  {
   "cell_type": "markdown",
   "id": "c4a676f4-a018-4d57-b7d4-0a59a9a61b26",
   "metadata": {},
   "source": [
    "# FILTERS"
   ]
  },
  {
   "cell_type": "code",
   "execution_count": 6,
   "id": "6404a71d-ade3-45d3-bb85-12c1dddb327d",
   "metadata": {},
   "outputs": [],
   "source": [
    "# Certainly room for improvement in the definition of these filters"
   ]
  },
  {
   "cell_type": "code",
   "execution_count": 7,
   "id": "07330313-9c73-40e3-a07c-2f9ca973a9d7",
   "metadata": {},
   "outputs": [],
   "source": [
    "solar = \"(power=plant and plant:source=solar) or (power=generator and generator:source=solar)\"\n",
    "roads = \"type:way and (highway in (motorway, motorway_link, trunk, trunk_link, primary, primary_link, secondary, secondary_link, tertiary, tertiary_link, unclassified, residential, living_street) or (highway=service and service=alley)))\"\n",
    "bike_path = \"type:way and ((sidewalk:left:bicycle=yes) or (cycleway:left=shared_lane) or (cyclestreet=yes) or (cycleway:left=shared_busway) or (cycleway:right=shared_busway) or (cycleway=shared_busway) or (cycleway=opposite_lane) or (highway=bridleway and bicycle=no) or (highway=track and bicycle=designated and motor_vehicle=no) or (bicycle=use_sidepath) or (cycleway=opposite and oneway:bicycle=no) or (sidewalk:right:bicycle=yes) or (cycleway:right=shared_lane) or (cycleway:left=track) or  (cycleway:right=track) or (highway=track and bicycle=designated and motor_vehicle=no) or (highway=path and bicycle=yes) or (highway=path and (bicycle=designated or bicycle=official)) or (highway=service and (bicycle=designated or motor_vehicle=no)) or (highway=pedestrian and (bicycle=yes or bicycle=official)) or (highway=footway and (bicycle=yes or bicycle=official)) or (highway=cycleway) or (cycleway in (lane, opposite_lane, shared_busway, track, opposite_track)) or (cycleway:left in (lane, shared_busway)) or (cycleway:right in (lane, shared_busway)) or (cycleway:both=lane) or (bicycle_road=yes and (motor_vehicle=no or bicycle=designated)) or (cyclestreet=yes))\""
   ]
  },
  {
   "cell_type": "markdown",
   "id": "4863e852-0dd4-4828-b278-6cb8d7d15700",
   "metadata": {},
   "source": [
    "# QUERIES"
   ]
  },
  {
   "cell_type": "code",
   "execution_count": 8,
   "id": "907dea74-2c24-4cc8-bb8c-c664f538315a",
   "metadata": {},
   "outputs": [],
   "source": [
    "# Very rough description of Heidelberg as square box\n",
    "bboxes_HD = [8.6581,49.3836,8.7225,49.4363]\n",
    "\n",
    "# Time interval in which data is queried\n",
    "time = \"2010-03-01T13:00:00Z/2023-07-01T15:30:00Z/P1M\""
   ]
  },
  {
   "cell_type": "markdown",
   "id": "bf3abcaf-4c93-4727-9ab1-c457776bbcf2",
   "metadata": {},
   "source": [
    "# FUNCTIONS"
   ]
  },
  {
   "cell_type": "raw",
   "id": "20606dcd-2a4f-41d7-a489-fbdc8b411e66",
   "metadata": {},
   "source": [
    "Getting the error message below when converting response to df.\n",
    "Probably a wrong combination of package versions or conflicting installation source (pip/conda) \n",
    "\n",
    "ValueError: unconverted data remains when parsing with format \"%Y-%m-%dT%H:%M:%S\": \"Z\", at position 0. You might want to try:\n",
    "- passing `format` if your strings have a consistent format;\n",
    "- passing `format='ISO8601'` if your strings are all ISO8601 but not necessarily in exactly the same format;\n",
    "- passing `format='mixed'`, and the format will be inferred for each element individually. You might want to use `dayfirst` alongside this."
   ]
  },
  {
   "cell_type": "code",
   "execution_count": 9,
   "id": "3668d01e-fad7-4c65-9ab8-b38a38b2787c",
   "metadata": {},
   "outputs": [],
   "source": [
    "# This function is a workaround to retrieve data in dataframes via json files since as_dataframe() conversion returns an error\n",
    "\n",
    "def retrieve_df(region, time, filter, endpoint):\n",
    "\n",
    "    if endpoint == 'count': \n",
    "        end = \"elements/count\"\n",
    "    elif endpoint == 'length':\n",
    "        end = \"elements/length\"\n",
    "    else:\n",
    "        print('Invalid endpoint')\n",
    "               \n",
    "    query = client.post(region, time=time, filter=filter, endpoint=end)\n",
    "    query.to_json(\"./query.json\")\n",
    "    temp = json.load(open(\"./query.json\"))\n",
    "    \n",
    "    df = pd.DataFrame(temp[\"result\"])\n",
    "    # convert timestamp to datetime format and keep only the date\n",
    "    df['timestamp']= pd.to_datetime(df['timestamp']).dt.date\n",
    "    \n",
    "    return df"
   ]
  },
  {
   "cell_type": "markdown",
   "id": "4be622b8-601b-463f-bfc7-f4d12bd7e465",
   "metadata": {},
   "source": [
    "# BIKEPATHS"
   ]
  },
  {
   "cell_type": "code",
   "execution_count": 10,
   "id": "58a1bd79-cace-4ce3-a028-8b7b319c55d8",
   "metadata": {},
   "outputs": [
    {
     "ename": "OhsomeException",
     "evalue": "OhsomeException (None): HTTPSConnectionPool(host='api.ohsome.org', port=443): Max retries exceeded with url: /v1/elements/count (Caused by ResponseError('too many 503 error responses'))",
     "output_type": "error",
     "traceback": [
      "\u001b[0;31m---------------------------------------------------------------------------\u001b[0m",
      "\u001b[0;31mOhsomeException\u001b[0m                           Traceback (most recent call last)",
      "Cell \u001b[0;32mIn[10], line 1\u001b[0m\n\u001b[0;32m----> 1\u001b[0m HD_bike_count \u001b[38;5;241m=\u001b[39m \u001b[43mretrieve_df\u001b[49m\u001b[43m(\u001b[49m\u001b[43mbboxes_HD\u001b[49m\u001b[43m,\u001b[49m\u001b[43m \u001b[49m\u001b[43mtime\u001b[49m\u001b[43m,\u001b[49m\u001b[43m \u001b[49m\u001b[43mbike_path\u001b[49m\u001b[43m,\u001b[49m\u001b[43m \u001b[49m\u001b[38;5;124;43m'\u001b[39;49m\u001b[38;5;124;43mcount\u001b[39;49m\u001b[38;5;124;43m'\u001b[39;49m\u001b[43m)\u001b[49m\n\u001b[1;32m      2\u001b[0m sleep(\u001b[38;5;241m10\u001b[39m)\n\u001b[1;32m      3\u001b[0m HD_bike_length \u001b[38;5;241m=\u001b[39m retrieve_df(bboxes_HD, time, bike_path, \u001b[38;5;124m'\u001b[39m\u001b[38;5;124mlength\u001b[39m\u001b[38;5;124m'\u001b[39m)\n",
      "Cell \u001b[0;32mIn[9], line 12\u001b[0m, in \u001b[0;36mretrieve_df\u001b[0;34m(region, time, filter, endpoint)\u001b[0m\n\u001b[1;32m      9\u001b[0m \u001b[38;5;28;01melse\u001b[39;00m:\n\u001b[1;32m     10\u001b[0m     \u001b[38;5;28mprint\u001b[39m(\u001b[38;5;124m'\u001b[39m\u001b[38;5;124mInvalid endpoint\u001b[39m\u001b[38;5;124m'\u001b[39m)\n\u001b[0;32m---> 12\u001b[0m query \u001b[38;5;241m=\u001b[39m \u001b[43mclient\u001b[49m\u001b[38;5;241;43m.\u001b[39;49m\u001b[43mpost\u001b[49m\u001b[43m(\u001b[49m\u001b[43mregion\u001b[49m\u001b[43m,\u001b[49m\u001b[43m \u001b[49m\u001b[43mtime\u001b[49m\u001b[38;5;241;43m=\u001b[39;49m\u001b[43mtime\u001b[49m\u001b[43m,\u001b[49m\u001b[43m \u001b[49m\u001b[38;5;28;43mfilter\u001b[39;49m\u001b[38;5;241;43m=\u001b[39;49m\u001b[38;5;28;43mfilter\u001b[39;49m\u001b[43m,\u001b[49m\u001b[43m \u001b[49m\u001b[43mendpoint\u001b[49m\u001b[38;5;241;43m=\u001b[39;49m\u001b[43mend\u001b[49m\u001b[43m)\u001b[49m\n\u001b[1;32m     13\u001b[0m query\u001b[38;5;241m.\u001b[39mto_json(\u001b[38;5;124m\"\u001b[39m\u001b[38;5;124m./query.json\u001b[39m\u001b[38;5;124m\"\u001b[39m)\n\u001b[1;32m     14\u001b[0m temp \u001b[38;5;241m=\u001b[39m json\u001b[38;5;241m.\u001b[39mload(\u001b[38;5;28mopen\u001b[39m(\u001b[38;5;124m\"\u001b[39m\u001b[38;5;124m./query.json\u001b[39m\u001b[38;5;124m\"\u001b[39m))\n",
      "File \u001b[0;32m~/anaconda3/envs/geo/lib/python3.11/site-packages/ohsome/clients.py:279\u001b[0m, in \u001b[0;36m_OhsomePostClient.post\u001b[0;34m(self, bboxes, bcircles, bpolys, time, filter, filter2, format, showMetadata, timeout, groupByKey, groupByKeys, groupByValues, properties, clipGeometry, endpoint)\u001b[0m\n\u001b[1;32m    277\u001b[0m \u001b[38;5;28mself\u001b[39m\u001b[38;5;241m.\u001b[39m_construct_resource_url(endpoint)\n\u001b[1;32m    278\u001b[0m \u001b[38;5;28mself\u001b[39m\u001b[38;5;241m.\u001b[39m_format_parameters(params)\n\u001b[0;32m--> 279\u001b[0m \u001b[38;5;28;01mreturn\u001b[39;00m \u001b[38;5;28;43mself\u001b[39;49m\u001b[38;5;241;43m.\u001b[39;49m\u001b[43m_handle_request\u001b[49m\u001b[43m(\u001b[49m\u001b[43m)\u001b[49m\n",
      "File \u001b[0;32m~/anaconda3/envs/geo/lib/python3.11/site-packages/ohsome/clients.py:348\u001b[0m, in \u001b[0;36m_OhsomePostClient._handle_request\u001b[0;34m(self)\u001b[0m\n\u001b[1;32m    346\u001b[0m     \u001b[38;5;28;01mif\u001b[39;00m \u001b[38;5;28mself\u001b[39m\u001b[38;5;241m.\u001b[39mlog:\n\u001b[1;32m    347\u001b[0m         ohsome_exception\u001b[38;5;241m.\u001b[39mlog(\u001b[38;5;28mself\u001b[39m\u001b[38;5;241m.\u001b[39mlog_dir)\n\u001b[0;32m--> 348\u001b[0m     \u001b[38;5;28;01mraise\u001b[39;00m ohsome_exception\n\u001b[1;32m    350\u001b[0m \u001b[38;5;28;01mreturn\u001b[39;00m OhsomeResponse(response, url\u001b[38;5;241m=\u001b[39m\u001b[38;5;28mself\u001b[39m\u001b[38;5;241m.\u001b[39m_url, params\u001b[38;5;241m=\u001b[39m\u001b[38;5;28mself\u001b[39m\u001b[38;5;241m.\u001b[39m_parameters)\n",
      "\u001b[0;31mOhsomeException\u001b[0m: OhsomeException (None): HTTPSConnectionPool(host='api.ohsome.org', port=443): Max retries exceeded with url: /v1/elements/count (Caused by ResponseError('too many 503 error responses'))"
     ]
    }
   ],
   "source": [
    "HD_bike_count = retrieve_df(bboxes_HD, time, bike_path, 'count')\n",
    "sleep(10)\n",
    "HD_bike_length = retrieve_df(bboxes_HD, time, bike_path, 'length')"
   ]
  },
  {
   "cell_type": "code",
   "execution_count": null,
   "id": "a726f4bd-fc3c-4c20-875e-bf584a617298",
   "metadata": {},
   "outputs": [],
   "source": [
    "HD_bike_count.rename(columns={'value': 'bikepath_count'}, inplace=True)\n",
    "HD_bike_length.rename(columns={'value': 'bikepath_length'}, inplace=True)\n",
    "HD_bike_length.head()"
   ]
  },
  {
   "cell_type": "code",
   "execution_count": null,
   "id": "3c8b620c-f95d-4d78-996b-e9d4e8582753",
   "metadata": {},
   "outputs": [],
   "source": [
    "HD_road_length = retrieve_df(bboxes_HD, time, 'highway=*', 'length')\n",
    "HD_road_length.rename(columns={'value': 'road_length'}, inplace=True)\n",
    "HD_road_length"
   ]
  },
  {
   "cell_type": "code",
   "execution_count": null,
   "id": "73ee82b6-2d37-4098-b080-3e6dd4e1ae3a",
   "metadata": {},
   "outputs": [],
   "source": [
    "HD = HD_bike_length.merge(HD_road_length, left_on='timestamp', right_on='timestamp')\n",
    "HD['bike_road_length_ratio']= HD.bikepath_length/HD.road_length*100"
   ]
  },
  {
   "cell_type": "code",
   "execution_count": null,
   "id": "2e7e7063-5ff2-49b3-b071-9b7890f6a880",
   "metadata": {},
   "outputs": [],
   "source": [
    "def plot_bikepath_HD(df, path, filename, cm):\n",
    "\n",
    "    from mpl_toolkits.axes_grid1.inset_locator import inset_axes, mark_inset\n",
    "\n",
    "    fig = plt.figure(figsize=(14*cm, 10*cm))\n",
    "    ax_ratio = fig.add_subplot(111)\n",
    "\n",
    "    df['timestamp']= pd.to_datetime(df['timestamp'])\n",
    "    ax_ratio.plot(df.timestamp, df.bike_road_length_ratio, c='Dodgerblue', lw=2)    \n",
    "    \n",
    "    ax_ratio.set(\n",
    "        title=r\"Evolution of the ratio of bike paths vs normal roads in Heidelberg\",\n",
    "        xlabel=r\"Time [yr]\",\n",
    "        ylabel=r\"Ratio of bike paths vs normal roads [\\%]\",\n",
    "        ylim=[0, 17],\n",
    "        )\n",
    "    #ax_ratio.get_legend().remove()    \n",
    "\n",
    "    # axin1 = ax.inset_axes([0.8, 0.1, 0.15, 0.15]) #[x0, y0, width, height]\n",
    "    # axin2 = ax.inset_axes([5, 7, 2.3, 2.3], transform=ax.transData)\n",
    "\n",
    "\n",
    "    \n",
    "    # insert plot showing the individual time5 evolution of bikepaths & roads\n",
    "    axins = ax_ratio.inset_axes([0.45, 0.15, 0.5, 0.4]) #[x0, y0, width, height]\n",
    "    #axins = inset_axes(ax_ratio, width=\"45%\", height=\"30%\", loc= 'lower right', bbox_to_anchor=None, borderpad=5)\n",
    "    axins.plot(df['timestamp'], df['bikepath_length']/1000, c='blue', lw=1, label='bikepaths')\n",
    "    axins.plot(df['timestamp'], df['road_length']/1000, c='navy', lw=1, label='roads')\n",
    "\n",
    "    axins.set(\n",
    "        title=r\"Evolution of the network length\",\n",
    "        xlabel=r\"Time [yr]\",\n",
    "        ylabel=r\"Network length [km]\",\n",
    "        ylim=[0, 800],\n",
    "    )\n",
    "    axins.legend(loc='upper left')\n",
    "    \n",
    "    file = path / str(filename)\n",
    "    fig.savefig(file, format='pdf')"
   ]
  },
  {
   "cell_type": "code",
   "execution_count": null,
   "id": "6604767c-92a3-4745-8249-fe1791e30c10",
   "metadata": {},
   "outputs": [],
   "source": [
    "plot_bikepath_HD(HD, path_geo, 'Bike_path_HD.pdf', cm)"
   ]
  },
  {
   "cell_type": "markdown",
   "id": "5b1e1157-3136-42fd-82a1-b92e0402d019",
   "metadata": {},
   "source": [
    "# Solar Energy"
   ]
  },
  {
   "cell_type": "code",
   "execution_count": null,
   "id": "56277041-38b3-4a13-b7af-784bac24bf70",
   "metadata": {},
   "outputs": [],
   "source": [
    "HD_solar_count = retrieve_df(bboxes_HD, time, solar, 'count')\n",
    "HD_solar_count.rename(columns={'value': 'solar_count'}, inplace=True)\n",
    "HD_solar_count.head()"
   ]
  },
  {
   "cell_type": "code",
   "execution_count": null,
   "id": "74c4f6bf-ec51-43b3-aebf-d4cb3ce14264",
   "metadata": {},
   "outputs": [],
   "source": [
    "def plot_solar_HD(df, path, filename, cm):\n",
    "\n",
    "    fig = plt.figure(figsize=(14*cm, 10*cm))\n",
    "    ax_solar = fig.add_subplot(111)\n",
    "\n",
    "    df['timestamp']= pd.to_datetime(df['timestamp'])\n",
    "    ax_solar.plot(df.timestamp, df.solar_count, c='Dodgerblue', lw=2, label = 'Reported Solar energy sources')    \n",
    "    \n",
    "    ax_solar.set(\n",
    "        title=r\"Evolution of the number of Solar energy sources in Heidelberg\",\n",
    "        xlabel=r\"Time [yr]\",\n",
    "        ylabel=r\"Number of objects\",\n",
    "        ylim=[8, 100],\n",
    "        )\n",
    "    ax_solar.legend(loc='upper left')  \n",
    "    \n",
    "    file = path / str(filename)\n",
    "    fig.savefig(file, format='pdf')"
   ]
  },
  {
   "cell_type": "code",
   "execution_count": null,
   "id": "4f329fc2-6f3a-4847-87e9-51980f1ec421",
   "metadata": {},
   "outputs": [],
   "source": [
    "plot_solar_HD(HD_solar_count, path_geo, 'Solar_count_HD.pdf', cm)"
   ]
  }
 ],
 "metadata": {
  "kernelspec": {
   "display_name": "Python 3 (ipykernel)",
   "language": "python",
   "name": "python3"
  },
  "language_info": {
   "codemirror_mode": {
    "name": "ipython",
    "version": 3
   },
   "file_extension": ".py",
   "mimetype": "text/x-python",
   "name": "python",
   "nbconvert_exporter": "python",
   "pygments_lexer": "ipython3",
   "version": "3.11.4"
  }
 },
 "nbformat": 4,
 "nbformat_minor": 5
}
