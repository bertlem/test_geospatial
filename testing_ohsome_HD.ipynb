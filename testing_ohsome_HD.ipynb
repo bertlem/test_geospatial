{
 "cells": [
  {
   "cell_type": "markdown",
   "id": "faff084a-51d5-4d27-9913-d1a84033c077",
   "metadata": {},
   "source": [
    "# IMPORTS"
   ]
  },
  {
   "cell_type": "code",
   "execution_count": 1,
   "id": "4284e549-6445-4e49-92be-c07df04797f9",
   "metadata": {},
   "outputs": [],
   "source": [
    "import ohsome\n",
    "import pandas as pd\n",
    "import geopandas as gpd\n",
    "import matplotlib.pyplot as plt\n",
    "\n",
    "import datetime\n",
    "import shapely\n",
    "\n",
    "import json\n",
    "\n",
    "from pathlib import Path\n",
    "from time import sleep"
   ]
  },
  {
   "cell_type": "markdown",
   "id": "9e581bf5-dc1a-4d6f-9959-41396c4a91b6",
   "metadata": {},
   "source": [
    "# MISC."
   ]
  },
  {
   "cell_type": "code",
   "execution_count": 2,
   "id": "655ffaa3-c78d-44ab-a743-d41bf57c718d",
   "metadata": {},
   "outputs": [],
   "source": [
    "tex_fonts = {\n",
    "        \"text.usetex\": True,\n",
    "        \"font.family\": \"serif\",\n",
    "        \"axes.titlesize\": 10, \n",
    "        \"axes.labelsize\": 10,\n",
    "        \"font.size\": 10,\n",
    "        \"legend.fontsize\": 'xx-small',\n",
    "        \"legend.title_fontsize\": 10,\n",
    "        \"xtick.labelsize\": 8, #'xx-small',\n",
    "        \"ytick.labelsize\": 8, #'xx-small',\n",
    "        \"ps.usedistiller\": \"xpdf\"\n",
    "        }\n",
    "plt.rcParams.update(tex_fonts)\n",
    "plt.rcParams['text.latex.preamble'] = r'\\usepackage{amsmath,amssymb,underscore}'"
   ]
  },
  {
   "cell_type": "code",
   "execution_count": 3,
   "id": "f205992c-8d21-431b-9150-4f839d3e9957",
   "metadata": {},
   "outputs": [],
   "source": [
    "cm=1/2.54"
   ]
  },
  {
   "cell_type": "code",
   "execution_count": 4,
   "id": "26e29351-1f1a-428b-a279-16fd30dfd691",
   "metadata": {},
   "outputs": [],
   "source": [
    "path_geo = Path('/home/lemasle/GEO/test_geospatial')\n",
    "path_geo = Path('/home/lemasle/GEO/test_geospatial/plots')"
   ]
  },
  {
   "cell_type": "markdown",
   "id": "e7cb4421-224c-4878-ae3f-d339cbefe575",
   "metadata": {},
   "source": [
    "# CLIENT"
   ]
  },
  {
   "cell_type": "code",
   "execution_count": 5,
   "id": "d77f1ee3-be90-4140-b587-06600131690e",
   "metadata": {},
   "outputs": [],
   "source": [
    "client = ohsome.OhsomeClient()"
   ]
  },
  {
   "cell_type": "markdown",
   "id": "c4a676f4-a018-4d57-b7d4-0a59a9a61b26",
   "metadata": {},
   "source": [
    "# FILTERS"
   ]
  },
  {
   "cell_type": "code",
   "execution_count": 6,
   "id": "6404a71d-ade3-45d3-bb85-12c1dddb327d",
   "metadata": {},
   "outputs": [],
   "source": [
    "# Certainly room for improvement in the definition of these filters"
   ]
  },
  {
   "cell_type": "code",
   "execution_count": 7,
   "id": "07330313-9c73-40e3-a07c-2f9ca973a9d7",
   "metadata": {},
   "outputs": [],
   "source": [
    "solar = \"(power=plant and plant:source=solar) or (power=generator and generator:source=solar)\"\n",
    "roads = \"type:way and (highway in (motorway, motorway_link, trunk, trunk_link, primary, primary_link, secondary, secondary_link, tertiary, tertiary_link, unclassified, residential, living_street) or (highway=service and service=alley)))\"\n",
    "bike_path = \"type:way and ((sidewalk:left:bicycle=yes) or (cycleway:left=shared_lane) or (cyclestreet=yes) or (cycleway:left=shared_busway) or (cycleway:right=shared_busway) or (cycleway=shared_busway) or (cycleway=opposite_lane) or (highway=bridleway and bicycle=no) or (highway=track and bicycle=designated and motor_vehicle=no) or (bicycle=use_sidepath) or (cycleway=opposite and oneway:bicycle=no) or (sidewalk:right:bicycle=yes) or (cycleway:right=shared_lane) or (cycleway:left=track) or  (cycleway:right=track) or (highway=track and bicycle=designated and motor_vehicle=no) or (highway=path and bicycle=yes) or (highway=path and (bicycle=designated or bicycle=official)) or (highway=service and (bicycle=designated or motor_vehicle=no)) or (highway=pedestrian and (bicycle=yes or bicycle=official)) or (highway=footway and (bicycle=yes or bicycle=official)) or (highway=cycleway) or (cycleway in (lane, opposite_lane, shared_busway, track, opposite_track)) or (cycleway:left in (lane, shared_busway)) or (cycleway:right in (lane, shared_busway)) or (cycleway:both=lane) or (bicycle_road=yes and (motor_vehicle=no or bicycle=designated)) or (cyclestreet=yes))\""
   ]
  },
  {
   "cell_type": "markdown",
   "id": "4863e852-0dd4-4828-b278-6cb8d7d15700",
   "metadata": {},
   "source": [
    "# QUERIES"
   ]
  },
  {
   "cell_type": "code",
   "execution_count": 8,
   "id": "907dea74-2c24-4cc8-bb8c-c664f538315a",
   "metadata": {},
   "outputs": [],
   "source": [
    "# Very rough description of Heidelberg as square box\n",
    "bboxes_HD = [8.6581,49.3836,8.7225,49.4363]\n",
    "\n",
    "# Time interval in which data is queried\n",
    "time = \"2010-03-01T13:00:00Z/2023-07-01T15:30:00Z/P1M\""
   ]
  },
  {
   "cell_type": "markdown",
   "id": "bf3abcaf-4c93-4727-9ab1-c457776bbcf2",
   "metadata": {},
   "source": [
    "# FUNCTIONS"
   ]
  },
  {
   "cell_type": "raw",
   "id": "20606dcd-2a4f-41d7-a489-fbdc8b411e66",
   "metadata": {},
   "source": [
    "Getting the error message below when converting response to df.\n",
    "Probably a wrong combination of package versions or conflicting installation source (pip/conda) \n",
    "\n",
    "ValueError: unconverted data remains when parsing with format \"%Y-%m-%dT%H:%M:%S\": \"Z\", at position 0. You might want to try:\n",
    "- passing `format` if your strings have a consistent format;\n",
    "- passing `format='ISO8601'` if your strings are all ISO8601 but not necessarily in exactly the same format;\n",
    "- passing `format='mixed'`, and the format will be inferred for each element individually. You might want to use `dayfirst` alongside this."
   ]
  },
  {
   "cell_type": "code",
   "execution_count": 9,
   "id": "3668d01e-fad7-4c65-9ab8-b38a38b2787c",
   "metadata": {},
   "outputs": [],
   "source": [
    "# This function is a workaround to retrieve data in dataframes via json files since as_dataframe() conversion returns an error\n",
    "\n",
    "def retrieve_df(region, time, filter, endpoint):\n",
    "\n",
    "    if endpoint == 'count': \n",
    "        end = \"elements/count\"\n",
    "    elif endpoint == 'length':\n",
    "        end = \"elements/length\"\n",
    "    else:\n",
    "        print('Invalid endpoint')\n",
    "               \n",
    "    query = client.post(region, time=time, filter=filter, endpoint=end)\n",
    "    query.to_json(\"./query.json\")\n",
    "    temp = json.load(open(\"./query.json\"))\n",
    "    \n",
    "    df = pd.DataFrame(temp[\"result\"])\n",
    "    # convert timestamp to datetime format and keep only the date\n",
    "    df['timestamp']= pd.to_datetime(df['timestamp']).dt.date\n",
    "    \n",
    "    return df"
   ]
  },
  {
   "cell_type": "markdown",
   "id": "4be622b8-601b-463f-bfc7-f4d12bd7e465",
   "metadata": {},
   "source": [
    "# BIKEPATHS"
   ]
  },
  {
   "cell_type": "code",
   "execution_count": 10,
   "id": "58a1bd79-cace-4ce3-a028-8b7b319c55d8",
   "metadata": {},
   "outputs": [],
   "source": [
    "HD_bike_count = retrieve_df(bboxes_HD, time, bike_path, 'count')\n",
    "sleep(10)\n",
    "HD_bike_length = retrieve_df(bboxes_HD, time, bike_path, 'length')"
   ]
  },
  {
   "cell_type": "code",
   "execution_count": 11,
   "id": "a726f4bd-fc3c-4c20-875e-bf584a617298",
   "metadata": {},
   "outputs": [
    {
     "data": {
      "text/html": [
       "<div>\n",
       "<style scoped>\n",
       "    .dataframe tbody tr th:only-of-type {\n",
       "        vertical-align: middle;\n",
       "    }\n",
       "\n",
       "    .dataframe tbody tr th {\n",
       "        vertical-align: top;\n",
       "    }\n",
       "\n",
       "    .dataframe thead th {\n",
       "        text-align: right;\n",
       "    }\n",
       "</style>\n",
       "<table border=\"1\" class=\"dataframe\">\n",
       "  <thead>\n",
       "    <tr style=\"text-align: right;\">\n",
       "      <th></th>\n",
       "      <th>timestamp</th>\n",
       "      <th>bikepath_length</th>\n",
       "    </tr>\n",
       "  </thead>\n",
       "  <tbody>\n",
       "    <tr>\n",
       "      <th>0</th>\n",
       "      <td>2010-03-01</td>\n",
       "      <td>55590.53</td>\n",
       "    </tr>\n",
       "    <tr>\n",
       "      <th>1</th>\n",
       "      <td>2010-04-01</td>\n",
       "      <td>55424.66</td>\n",
       "    </tr>\n",
       "    <tr>\n",
       "      <th>2</th>\n",
       "      <td>2010-05-01</td>\n",
       "      <td>55482.25</td>\n",
       "    </tr>\n",
       "    <tr>\n",
       "      <th>3</th>\n",
       "      <td>2010-06-01</td>\n",
       "      <td>55804.73</td>\n",
       "    </tr>\n",
       "    <tr>\n",
       "      <th>4</th>\n",
       "      <td>2010-07-01</td>\n",
       "      <td>56606.16</td>\n",
       "    </tr>\n",
       "  </tbody>\n",
       "</table>\n",
       "</div>"
      ],
      "text/plain": [
       "    timestamp  bikepath_length\n",
       "0  2010-03-01         55590.53\n",
       "1  2010-04-01         55424.66\n",
       "2  2010-05-01         55482.25\n",
       "3  2010-06-01         55804.73\n",
       "4  2010-07-01         56606.16"
      ]
     },
     "execution_count": 11,
     "metadata": {},
     "output_type": "execute_result"
    }
   ],
   "source": [
    "HD_bike_count.rename(columns={'value': 'bikepath_count'}, inplace=True)\n",
    "HD_bike_length.rename(columns={'value': 'bikepath_length'}, inplace=True)\n",
    "HD_bike_length.head()"
   ]
  },
  {
   "cell_type": "code",
   "execution_count": 12,
   "id": "3c8b620c-f95d-4d78-996b-e9d4e8582753",
   "metadata": {},
   "outputs": [
    {
     "data": {
      "text/html": [
       "<div>\n",
       "<style scoped>\n",
       "    .dataframe tbody tr th:only-of-type {\n",
       "        vertical-align: middle;\n",
       "    }\n",
       "\n",
       "    .dataframe tbody tr th {\n",
       "        vertical-align: top;\n",
       "    }\n",
       "\n",
       "    .dataframe thead th {\n",
       "        text-align: right;\n",
       "    }\n",
       "</style>\n",
       "<table border=\"1\" class=\"dataframe\">\n",
       "  <thead>\n",
       "    <tr style=\"text-align: right;\">\n",
       "      <th></th>\n",
       "      <th>timestamp</th>\n",
       "      <th>road_length</th>\n",
       "    </tr>\n",
       "  </thead>\n",
       "  <tbody>\n",
       "    <tr>\n",
       "      <th>0</th>\n",
       "      <td>2010-03-01</td>\n",
       "      <td>483153.53</td>\n",
       "    </tr>\n",
       "    <tr>\n",
       "      <th>1</th>\n",
       "      <td>2010-04-01</td>\n",
       "      <td>485253.51</td>\n",
       "    </tr>\n",
       "    <tr>\n",
       "      <th>2</th>\n",
       "      <td>2010-05-01</td>\n",
       "      <td>486031.80</td>\n",
       "    </tr>\n",
       "    <tr>\n",
       "      <th>3</th>\n",
       "      <td>2010-06-01</td>\n",
       "      <td>486732.82</td>\n",
       "    </tr>\n",
       "    <tr>\n",
       "      <th>4</th>\n",
       "      <td>2010-07-01</td>\n",
       "      <td>487819.14</td>\n",
       "    </tr>\n",
       "    <tr>\n",
       "      <th>...</th>\n",
       "      <td>...</td>\n",
       "      <td>...</td>\n",
       "    </tr>\n",
       "    <tr>\n",
       "      <th>156</th>\n",
       "      <td>2023-03-01</td>\n",
       "      <td>696925.87</td>\n",
       "    </tr>\n",
       "    <tr>\n",
       "      <th>157</th>\n",
       "      <td>2023-04-01</td>\n",
       "      <td>697184.53</td>\n",
       "    </tr>\n",
       "    <tr>\n",
       "      <th>158</th>\n",
       "      <td>2023-05-01</td>\n",
       "      <td>697586.71</td>\n",
       "    </tr>\n",
       "    <tr>\n",
       "      <th>159</th>\n",
       "      <td>2023-06-01</td>\n",
       "      <td>697863.78</td>\n",
       "    </tr>\n",
       "    <tr>\n",
       "      <th>160</th>\n",
       "      <td>2023-07-01</td>\n",
       "      <td>699021.06</td>\n",
       "    </tr>\n",
       "  </tbody>\n",
       "</table>\n",
       "<p>161 rows × 2 columns</p>\n",
       "</div>"
      ],
      "text/plain": [
       "      timestamp  road_length\n",
       "0    2010-03-01    483153.53\n",
       "1    2010-04-01    485253.51\n",
       "2    2010-05-01    486031.80\n",
       "3    2010-06-01    486732.82\n",
       "4    2010-07-01    487819.14\n",
       "..          ...          ...\n",
       "156  2023-03-01    696925.87\n",
       "157  2023-04-01    697184.53\n",
       "158  2023-05-01    697586.71\n",
       "159  2023-06-01    697863.78\n",
       "160  2023-07-01    699021.06\n",
       "\n",
       "[161 rows x 2 columns]"
      ]
     },
     "execution_count": 12,
     "metadata": {},
     "output_type": "execute_result"
    }
   ],
   "source": [
    "HD_road_length = retrieve_df(bboxes_HD, time, 'highway=*', 'length')\n",
    "HD_road_length.rename(columns={'value': 'road_length'}, inplace=True)\n",
    "HD_road_length"
   ]
  },
  {
   "cell_type": "code",
   "execution_count": 13,
   "id": "73ee82b6-2d37-4098-b080-3e6dd4e1ae3a",
   "metadata": {},
   "outputs": [],
   "source": [
    "HD = HD_bike_length.merge(HD_road_length, left_on='timestamp', right_on='timestamp')\n",
    "HD['bike_road_length_ratio']= HD.bikepath_length/HD.road_length*100"
   ]
  },
  {
   "cell_type": "code",
   "execution_count": 14,
   "id": "2e7e7063-5ff2-49b3-b071-9b7890f6a880",
   "metadata": {},
   "outputs": [],
   "source": [
    "def plot_bikepath_HD(df, path, filename, cm):\n",
    "\n",
    "    from mpl_toolkits.axes_grid1.inset_locator import inset_axes, mark_inset\n",
    "\n",
    "    fig = plt.figure(figsize=(14*cm, 10*cm))\n",
    "    ax_ratio = fig.add_subplot(111)\n",
    "\n",
    "    df['timestamp']= pd.to_datetime(df['timestamp'])\n",
    "    ax_ratio.plot(df.timestamp, df.bike_road_length_ratio, c='Dodgerblue', lw=2)    \n",
    "    \n",
    "    ax_ratio.set(\n",
    "        title=r\"Evolution of the ratio of bike paths vs normal roads in Heidelberg\",\n",
    "        xlabel=r\"Time [yr]\",\n",
    "        ylabel=r\"Ratio of bike paths vs normal roads [\\%]\",\n",
    "        ylim=[0, 17],\n",
    "        )\n",
    "    #ax_ratio.get_legend().remove()    \n",
    "\n",
    "    # axin1 = ax.inset_axes([0.8, 0.1, 0.15, 0.15]) #[x0, y0, width, height]\n",
    "    # axin2 = ax.inset_axes([5, 7, 2.3, 2.3], transform=ax.transData)\n",
    "\n",
    "\n",
    "    \n",
    "    # insert plot showing the individual time5 evolution of bikepaths & roads\n",
    "    axins = ax_ratio.inset_axes([0.45, 0.15, 0.5, 0.4]) #[x0, y0, width, height]\n",
    "    #axins = inset_axes(ax_ratio, width=\"45%\", height=\"30%\", loc= 'lower right', bbox_to_anchor=None, borderpad=5)\n",
    "    axins.plot(df['timestamp'], df['bikepath_length']/1000, c='blue', lw=1, label='bikepaths')\n",
    "    axins.plot(df['timestamp'], df['road_length']/1000, c='navy', lw=1, label='roads')\n",
    "\n",
    "    axins.set(\n",
    "        title=r\"Evolution of the network length\",\n",
    "        xlabel=r\"Time [yr]\",\n",
    "        ylabel=r\"Network length [km]\",\n",
    "        ylim=[0, 800],\n",
    "    )\n",
    "    axins.legend(loc='upper left')\n",
    "    \n",
    "    file = path / str(filename)\n",
    "    fig.savefig(file, format='pdf')"
   ]
  },
  {
   "cell_type": "code",
   "execution_count": 15,
   "id": "6604767c-92a3-4745-8249-fe1791e30c10",
   "metadata": {},
   "outputs": [
    {
     "data": {
      "image/png": "[encoded data removed]",
      "text/plain": [
       "<Figure size 551.181x393.701 with 1 Axes>"
      ]
     },
     "metadata": {},
     "output_type": "display_data"
    }
   ],
   "source": [
    "plot_bikepath_HD(HD, path_geo, 'Bike_path_HD.pdf', cm)"
   ]
  },
  {
   "cell_type": "markdown",
   "id": "5b1e1157-3136-42fd-82a1-b92e0402d019",
   "metadata": {},
   "source": [
    "# Solar Energy"
   ]
  },
  {
   "cell_type": "code",
   "execution_count": 16,
   "id": "56277041-38b3-4a13-b7af-784bac24bf70",
   "metadata": {},
   "outputs": [
    {
     "data": {
      "text/html": [
       "<div>\n",
       "<style scoped>\n",
       "    .dataframe tbody tr th:only-of-type {\n",
       "        vertical-align: middle;\n",
       "    }\n",
       "\n",
       "    .dataframe tbody tr th {\n",
       "        vertical-align: top;\n",
       "    }\n",
       "\n",
       "    .dataframe thead th {\n",
       "        text-align: right;\n",
       "    }\n",
       "</style>\n",
       "<table border=\"1\" class=\"dataframe\">\n",
       "  <thead>\n",
       "    <tr style=\"text-align: right;\">\n",
       "      <th></th>\n",
       "      <th>timestamp</th>\n",
       "      <th>solar_count</th>\n",
       "    </tr>\n",
       "  </thead>\n",
       "  <tbody>\n",
       "    <tr>\n",
       "      <th>0</th>\n",
       "      <td>2010-03-01</td>\n",
       "      <td>0.0</td>\n",
       "    </tr>\n",
       "    <tr>\n",
       "      <th>1</th>\n",
       "      <td>2010-04-01</td>\n",
       "      <td>0.0</td>\n",
       "    </tr>\n",
       "    <tr>\n",
       "      <th>2</th>\n",
       "      <td>2010-05-01</td>\n",
       "      <td>0.0</td>\n",
       "    </tr>\n",
       "    <tr>\n",
       "      <th>3</th>\n",
       "      <td>2010-06-01</td>\n",
       "      <td>0.0</td>\n",
       "    </tr>\n",
       "    <tr>\n",
       "      <th>4</th>\n",
       "      <td>2010-07-01</td>\n",
       "      <td>0.0</td>\n",
       "    </tr>\n",
       "  </tbody>\n",
       "</table>\n",
       "</div>"
      ],
      "text/plain": [
       "    timestamp  solar_count\n",
       "0  2010-03-01          0.0\n",
       "1  2010-04-01          0.0\n",
       "2  2010-05-01          0.0\n",
       "3  2010-06-01          0.0\n",
       "4  2010-07-01          0.0"
      ]
     },
     "execution_count": 16,
     "metadata": {},
     "output_type": "execute_result"
    }
   ],
   "source": [
    "HD_solar_count = retrieve_df(bboxes_HD, time, solar, 'count')\n",
    "HD_solar_count.rename(columns={'value': 'solar_count'}, inplace=True)\n",
    "HD_solar_count.head()"
   ]
  },
  {
   "cell_type": "code",
   "execution_count": 17,
   "id": "74c4f6bf-ec51-43b3-aebf-d4cb3ce14264",
   "metadata": {},
   "outputs": [],
   "source": [
    "def plot_solar_HD(df, path, filename, cm):\n",
    "\n",
    "    fig = plt.figure(figsize=(14*cm, 10*cm))\n",
    "    ax_solar = fig.add_subplot(111)\n",
    "\n",
    "    df['timestamp']= pd.to_datetime(df['timestamp'])\n",
    "    ax_solar.plot(df.timestamp, df.solar_count, c='Dodgerblue', lw=2, label = 'Reported Solar energy sources')    \n",
    "    \n",
    "    ax_solar.set(\n",
    "        title=r\"Evolution of the number of Solar energy sources in Heidelberg\",\n",
    "        xlabel=r\"Time [yr]\",\n",
    "        ylabel=r\"Number of objects\",\n",
    "        ylim=[8, 100],\n",
    "        )\n",
    "    ax_solar.legend(loc='upper left')  \n",
    "    \n",
    "    file = path / str(filename)\n",
    "    fig.savefig(file, format='pdf')"
   ]
  },
  {
   "cell_type": "code",
   "execution_count": 18,
   "id": "4f329fc2-6f3a-4847-87e9-51980f1ec421",
   "metadata": {},
   "outputs": [
    {
     "data": {
      "image/png": "[encoded data removed]",
      "text/plain": [
       "<Figure size 551.181x393.701 with 1 Axes>"
      ]
     },
     "metadata": {},
     "output_type": "display_data"
    }
   ],
   "source": [
    "plot_solar_HD(HD_solar_count, path_geo, 'Solar_count_HD.pdf', cm)"
   ]
  }
 ],
 "metadata": {
  "kernelspec": {
   "display_name": "Python 3 (ipykernel)",
   "language": "python",
   "name": "python3"
  },
  "language_info": {
   "codemirror_mode": {
    "name": "ipython",
    "version": 3
   },
   "file_extension": ".py",
   "mimetype": "text/x-python",
   "name": "python",
   "nbconvert_exporter": "python",
   "pygments_lexer": "ipython3",
   "version": "3.11.4"
  }
 },
 "nbformat": 4,
 "nbformat_minor": 5
}
